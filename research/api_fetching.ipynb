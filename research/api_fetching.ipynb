{
 "cells": [
  {
   "cell_type": "code",
   "execution_count": 8,
   "id": "47ccd441",
   "metadata": {},
   "outputs": [],
   "source": [
    "import os"
   ]
  },
  {
   "cell_type": "code",
   "execution_count": 11,
   "id": "227c1630",
   "metadata": {},
   "outputs": [
    {
     "data": {
      "text/plain": [
       "'e:\\\\Mlop\\\\End to end\\\\RecAPI_MovieFuse'"
      ]
     },
     "execution_count": 11,
     "metadata": {},
     "output_type": "execute_result"
    }
   ],
   "source": [
    "os.getcwd()"
   ]
  },
  {
   "cell_type": "code",
   "execution_count": 10,
   "id": "bb98ef74",
   "metadata": {},
   "outputs": [],
   "source": [
    "os.chdir(\"../\")"
   ]
  },
  {
   "cell_type": "code",
   "execution_count": null,
   "id": "0f9b3d49",
   "metadata": {},
   "outputs": [],
   "source": []
  },
  {
   "cell_type": "code",
   "execution_count": 30,
   "id": "eacfafe3",
   "metadata": {},
   "outputs": [],
   "source": [
    "from dataclasses import dataclass\n",
    "from pathlib import Path\n",
    "@dataclass\n",
    "class DataIngestionConfig:\n",
    "  base_url: str\n",
    "  search_endpoint: str\n",
    "  total_pages: int\n",
    "  save_file: Path\n",
    "  CSV_data_path: Path"
   ]
  },
  {
   "cell_type": "code",
   "execution_count": 31,
   "id": "c5af3490",
   "metadata": {},
   "outputs": [],
   "source": [
    "import sys"
   ]
  },
  {
   "cell_type": "code",
   "execution_count": 32,
   "id": "4ac6f91b",
   "metadata": {},
   "outputs": [],
   "source": [
    "from src.RECAPI_MOVIEFUSE.constant import *\n",
    "from src.RECAPI_MOVIEFUSE.utils.common import read_yaml , create_directories"
   ]
  },
  {
   "cell_type": "code",
   "execution_count": 33,
   "id": "6b0ab2ec",
   "metadata": {},
   "outputs": [],
   "source": [
    "class ConfigurationManager:\n",
    "    def __init__(self, config_filepath=CONFIG_FILE_PATH, params_filepath=PARAMS_FILE_PATH):\n",
    "        self.config = read_yaml(config_filepath)\n",
    "        self.params = read_yaml(params_filepath)\n",
    "\n",
    "    def get_data_ingestion_config(self) -> DataIngestionConfig:\n",
    "        config = self.config.data_fetching\n",
    "        create_directories([Path(config.save_file).parent])\n",
    "        return DataIngestionConfig(\n",
    "            base_url=config.base_url,\n",
    "            search_endpoint=config.search_endpoint,\n",
    "            total_pages=config.total_pages,\n",
    "            save_file=Path(config.save_file),\n",
    "            CSV_data_path=Path(config.CSV_data_path)\n",
    "        )"
   ]
  },
  {
   "cell_type": "code",
   "execution_count": 34,
   "id": "9e36e213",
   "metadata": {},
   "outputs": [],
   "source": [
    "import os \n",
    "import requests\n",
    "from src.logger import logging\n",
    "from src.exception import CustomException\n",
    "from dotenv import load_dotenv\n",
    "import time\n",
    "import json\n",
    "import pandas as pd"
   ]
  },
  {
   "cell_type": "code",
   "execution_count": 35,
   "id": "73beb9b2",
   "metadata": {},
   "outputs": [
    {
     "data": {
      "text/plain": [
       "True"
      ]
     },
     "execution_count": 35,
     "metadata": {},
     "output_type": "execute_result"
    }
   ],
   "source": [
    "load_dotenv()"
   ]
  },
  {
   "cell_type": "code",
   "execution_count": 36,
   "id": "bb231bff",
   "metadata": {},
   "outputs": [
    {
     "data": {
      "text/plain": [
       "ConfigBox({'data_fetching': {'base_url': 'https://api.themoviedb.org/3', 'search_endpoint': '/discover/movie', 'total_pages': 50, 'save_file': 'artifacts/raw/movies_1000.json', 'CSV_data_path': 'artifacts/CSV_data.csv'}})"
      ]
     },
     "execution_count": 36,
     "metadata": {},
     "output_type": "execute_result"
    }
   ],
   "source": [
    "config=read_yaml(CONFIG_FILE_PATH)\n",
    "config\n",
    "# url=f\"{config.data_fetching.base_url}{config.data_fetching.search_endpoint}?page={config.data_fetching.total_pages}\"\n",
    "# print(url)"
   ]
  },
  {
   "cell_type": "code",
   "execution_count": null,
   "id": "737ab2a6",
   "metadata": {},
   "outputs": [],
   "source": [
    "class DataIngestion:\n",
    "    def __init__(self, config: DataIngestionConfig):\n",
    "        self.config = config\n",
    "\n",
    "    def fetching_data_from_api(self):\n",
    "        headers = {\n",
    "            \"accept\": \"application/json\",\n",
    "            \"Authorization\": f\"Bearer {os.getenv('API_KEY')}\"\n",
    "        }\n",
    "\n",
    "        all_movies = []\n",
    "        for page in range(1, self.config.total_pages + 1):\n",
    "            url = f\"{self.config.base_url}{self.config.search_endpoint}?page={page}\"\n",
    "            response = requests.get(url, headers=headers)\n",
    "\n",
    "            if response.status_code == 200:\n",
    "                logging.info(f\"Page {page} fetched successfully.\")\n",
    "                data = response.json()\n",
    "                all_movies.extend(data.get('results', []))\n",
    "            else:\n",
    "                logging.warning(f\"Failed to fetch page {page}: {response.status_code}\")\n",
    "\n",
    "            time.sleep(0.25)\n",
    "\n",
    "        with open(self.config.save_file, \"w\", encoding=\"utf-8\") as f:\n",
    "            json.dump(all_movies, f, ensure_ascii=False, indent=2)\n",
    "            \n",
    "            \n",
    "            \n",
    "    def convert_json_to_csv(self):\n",
    "        with open(self.config.save_file, \"r\", encoding=\"utf-8\")as f:\n",
    "            moveis=json.load(f)\n",
    "            \n",
    "        processed_movies=[]\n",
    "        for movie in moveis:\n",
    "            processed_movies.append({\n",
    "                \"id\": movie.get(\"id\"),\n",
    "                \"title\": movie.get(\"title\"),\n",
    "                \"original_language\": movie.get(\"original_language\"),\n",
    "                \"release_date\": movie.get(\"release_date\"),\n",
    "                \"overview\": movie.get(\"overview\"),\n",
    "                \"popularity\": movie.get(\"popularity\"),\n",
    "                \"vote_average\": movie.get(\"vote_average\"),\n",
    "                \"vote_count\": movie.get(\"vote_count\"),\n",
    "                \"genre_ids\": \",\".join(str(gid) for gid in movie.get(\"genre_ids\", []))\n",
    "            })\n",
    "            \n",
    "        df = pd.DataFrame(processed_movies)\n",
    "        Path(self.config.CSV_data_path).parent.mkdir(parents=True, exist_ok=True)\n",
    "        df.to_csv(self.config.CSV_data_path, index=False)\n",
    "        logging.info(f\"CSV file saved at {self.config.CSV_data_path}\")"
   ]
  },
  {
   "cell_type": "code",
   "execution_count": 38,
   "id": "ddb8a707",
   "metadata": {},
   "outputs": [],
   "source": [
    "try:\n",
    "    config = ConfigurationManager()\n",
    "    data_ingestion_config = config.get_data_ingestion_config()\n",
    "    data_ingestion = DataIngestion(data_ingestion_config)\n",
    "    data_ingestion.fetching_data_from_api()\n",
    "    data_ingestion.convert_json_to_csv()\n",
    "    \n",
    "except Exception as e:\n",
    "    raise CustomException(e, sys)"
   ]
  },
  {
   "cell_type": "code",
   "execution_count": null,
   "id": "7bd7828e",
   "metadata": {},
   "outputs": [],
   "source": []
  },
  {
   "cell_type": "code",
   "execution_count": null,
   "id": "58464413",
   "metadata": {},
   "outputs": [],
   "source": []
  },
  {
   "cell_type": "code",
   "execution_count": null,
   "id": "deeeb72b",
   "metadata": {},
   "outputs": [],
   "source": []
  },
  {
   "cell_type": "code",
   "execution_count": null,
   "id": "bb60be7c",
   "metadata": {},
   "outputs": [],
   "source": []
  },
  {
   "cell_type": "code",
   "execution_count": null,
   "id": "5843c3d2",
   "metadata": {},
   "outputs": [],
   "source": []
  },
  {
   "cell_type": "code",
   "execution_count": null,
   "id": "e85d7951",
   "metadata": {},
   "outputs": [],
   "source": []
  },
  {
   "cell_type": "code",
   "execution_count": null,
   "id": "1943ddc9",
   "metadata": {},
   "outputs": [],
   "source": []
  },
  {
   "cell_type": "code",
   "execution_count": null,
   "id": "6a37dd5d",
   "metadata": {},
   "outputs": [],
   "source": []
  },
  {
   "cell_type": "code",
   "execution_count": null,
   "id": "e8b6c283",
   "metadata": {},
   "outputs": [],
   "source": []
  },
  {
   "cell_type": "code",
   "execution_count": null,
   "id": "d96577ee",
   "metadata": {},
   "outputs": [],
   "source": []
  },
  {
   "cell_type": "code",
   "execution_count": null,
   "id": "1f9b8c3a",
   "metadata": {},
   "outputs": [],
   "source": []
  }
 ],
 "metadata": {
  "kernelspec": {
   "display_name": "venv",
   "language": "python",
   "name": "python3"
  },
  "language_info": {
   "codemirror_mode": {
    "name": "ipython",
    "version": 3
   },
   "file_extension": ".py",
   "mimetype": "text/x-python",
   "name": "python",
   "nbconvert_exporter": "python",
   "pygments_lexer": "ipython3",
   "version": "3.10.16"
  }
 },
 "nbformat": 4,
 "nbformat_minor": 5
}
