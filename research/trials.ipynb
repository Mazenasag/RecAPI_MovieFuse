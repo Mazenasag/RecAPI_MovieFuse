{
 "cells": [
  {
   "cell_type": "code",
   "execution_count": 1,
   "id": "a39c5f00",
   "metadata": {},
   "outputs": [],
   "source": [
    "dic={\"key\":3,\"key1\":4}"
   ]
  },
  {
   "cell_type": "code",
   "execution_count": 7,
   "id": "e06b1e87",
   "metadata": {},
   "outputs": [],
   "source": [
    "from box import ConfigBox"
   ]
  },
  {
   "cell_type": "code",
   "execution_count": 8,
   "id": "7a59eca4",
   "metadata": {},
   "outputs": [],
   "source": [
    "dic=ConfigBox({\"key\":3,\"key1\":4})"
   ]
  },
  {
   "cell_type": "code",
   "execution_count": 9,
   "id": "322a8a68",
   "metadata": {},
   "outputs": [
    {
     "data": {
      "text/plain": [
       "3"
      ]
     },
     "execution_count": 9,
     "metadata": {},
     "output_type": "execute_result"
    }
   ],
   "source": [
    "dic.key"
   ]
  },
  {
   "cell_type": "code",
   "execution_count": null,
   "id": "ef74dffe",
   "metadata": {},
   "outputs": [],
   "source": []
  }
 ],
 "metadata": {
  "kernelspec": {
   "display_name": "venv",
   "language": "python",
   "name": "python3"
  },
  "language_info": {
   "codemirror_mode": {
    "name": "ipython",
    "version": 3
   },
   "file_extension": ".py",
   "mimetype": "text/x-python",
   "name": "python",
   "nbconvert_exporter": "python",
   "pygments_lexer": "ipython3",
   "version": "3.10.16"
  }
 },
 "nbformat": 4,
 "nbformat_minor": 5
}
